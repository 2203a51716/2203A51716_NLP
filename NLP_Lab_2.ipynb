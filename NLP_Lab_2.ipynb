{
  "nbformat": 4,
  "nbformat_minor": 0,
  "metadata": {
    "colab": {
      "provenance": []
    },
    "kernelspec": {
      "name": "python3",
      "display_name": "Python 3"
    },
    "language_info": {
      "name": "python"
    }
  },
  "cells": [
    {
      "cell_type": "markdown",
      "source": [
        "Take your own text or take text as “Hello there! How are you doing today?\n",
        "NLP is fascinating.\" Implement Tokenization in the text"
      ],
      "metadata": {
        "id": "p_SdDt5TzTK1"
      }
    },
    {
      "cell_type": "code",
      "execution_count": 2,
      "metadata": {
        "colab": {
          "base_uri": "https://localhost:8080/"
        },
        "id": "ouyHCEjirLhW",
        "outputId": "2b069d27-bbbd-4e3a-8ea3-d3d70b790909"
      },
      "outputs": [
        {
          "output_type": "stream",
          "name": "stderr",
          "text": [
            "[nltk_data] Downloading package punkt to /root/nltk_data...\n",
            "[nltk_data]   Unzipping tokenizers/punkt.zip.\n"
          ]
        },
        {
          "output_type": "stream",
          "name": "stdout",
          "text": [
            "Sentence Tokenization:\n",
            "['Hello there!', 'How are you doing today?', 'NLP is fascinating.']\n",
            "\n",
            "Word Tokenization:\n",
            "['Hello', 'there', '!', 'How', 'are', 'you', 'doing', 'today', '?', 'NLP', 'is', 'fascinating', '.']\n"
          ]
        }
      ],
      "source": [
        "import nltk\n",
        "nltk.download('punkt')\n",
        "from nltk.tokenize import word_tokenize, sent_tokenize\n",
        "\n",
        "text = \"Hello there! How are you doing today? NLP is fascinating.\"\n",
        "sentences = sent_tokenize(text)\n",
        "print(\"Sentence Tokenization:\")\n",
        "print(sentences)\n",
        "\n",
        "words = word_tokenize(text)\n",
        "print(\"\\nWord Tokenization:\")\n",
        "print(words)"
      ]
    },
    {
      "cell_type": "markdown",
      "source": [
        "Take your own words or take words = [\"running\", \"ran\", \"runs\", \"easily\", \"fairly\"]. Implement Stemming in the text."
      ],
      "metadata": {
        "id": "YkqH121zzWIF"
      }
    },
    {
      "cell_type": "code",
      "source": [
        "import nltk\n",
        "from nltk.stem import PorterStemmer, LancasterStemmer\n",
        "words = [\"running\", \"ran\", \"runs\", \"easily\", \"fairly\"]\n",
        "porter_stemmer = PorterStemmer()\n",
        "lancaster_stemmer = LancasterStemmer()\n",
        "porter_stems = [porter_stemmer.stem(word) for word in words]\n",
        "print(\"Porter Stemmer Results:\")\n",
        "print(porter_stems)\n",
        "lancaster_stems = [lancaster_stemmer.stem(word) for word in words]\n",
        "print(\"\\nLancaster Stemmer Results:\")\n",
        "print(lancaster_stems)"
      ],
      "metadata": {
        "colab": {
          "base_uri": "https://localhost:8080/"
        },
        "id": "kr4YAPFby2qx",
        "outputId": "a05a7056-ab7c-4036-ed7d-eb97fa3a6968"
      },
      "execution_count": 3,
      "outputs": [
        {
          "output_type": "stream",
          "name": "stdout",
          "text": [
            "Porter Stemmer Results:\n",
            "['run', 'ran', 'run', 'easili', 'fairli']\n",
            "\n",
            "Lancaster Stemmer Results:\n",
            "['run', 'ran', 'run', 'easy', 'fair']\n"
          ]
        }
      ]
    },
    {
      "cell_type": "markdown",
      "source": [
        ". Implement representation of word on any text or take text as “NLP is fun and\n",
        "interesting.\", \"NLP involves linguistics and computer science.\""
      ],
      "metadata": {
        "id": "lS-y6X9lzbsi"
      }
    },
    {
      "cell_type": "code",
      "source": [
        "from sklearn.preprocessing import LabelBinarizer\n",
        "texts = [\"NLP is fun and interesting.\",\n",
        "         \"NLP involves linguistics and computer science.\"]\n",
        "words = set(word for text in texts for word in text.lower().split())\n",
        "lb = LabelBinarizer()\n",
        "lb.fit(list(words))\n",
        "one_hot_encoded_texts = [lb.transform(text.lower().split()) for text in texts]\n",
        "print(\"One-Hot Encoding:\")\n",
        "for i, sentence in enumerate(one_hot_encoded_texts):\n",
        "    print(f\"Sentence {i+1}:\")\n",
        "    for word, vector in zip(texts[i].lower().split(), sentence):\n",
        "        print(f\"{word}: {vector}\")"
      ],
      "metadata": {
        "colab": {
          "base_uri": "https://localhost:8080/"
        },
        "id": "wYY_AvdMzCmS",
        "outputId": "aef4f7f8-cd6e-44cd-d050-a08c6501cf5e"
      },
      "execution_count": 4,
      "outputs": [
        {
          "output_type": "stream",
          "name": "stdout",
          "text": [
            "One-Hot Encoding:\n",
            "Sentence 1:\n",
            "nlp: [0 0 0 0 0 0 0 1 0]\n",
            "is: [0 0 0 0 0 1 0 0 0]\n",
            "fun: [0 0 1 0 0 0 0 0 0]\n",
            "and: [1 0 0 0 0 0 0 0 0]\n",
            "interesting.: [0 0 0 1 0 0 0 0 0]\n",
            "Sentence 2:\n",
            "nlp: [0 0 0 0 0 0 0 1 0]\n",
            "involves: [0 0 0 0 1 0 0 0 0]\n",
            "linguistics: [0 0 0 0 0 0 1 0 0]\n",
            "and: [1 0 0 0 0 0 0 0 0]\n",
            "computer: [0 1 0 0 0 0 0 0 0]\n",
            "science.: [0 0 0 0 0 0 0 0 1]\n"
          ]
        }
      ]
    },
    {
      "cell_type": "markdown",
      "source": [
        "Implement Representation of Sentences on following or take any other sentence \"NLP is an interesting field.\", \"It involves processing natural language.\""
      ],
      "metadata": {
        "id": "hLiS11txzgA2"
      }
    },
    {
      "cell_type": "code",
      "source": [
        "from sklearn.feature_extraction.text import CountVectorizer\n",
        "sentences = [\"NLP is an interesting field.\",\n",
        "             \"It involves processing natural language.\"]\n",
        "vectorizer = CountVectorizer()\n",
        "bow_matrix = vectorizer.fit_transform(sentences)\n",
        "feature_names = vectorizer.get_feature_names_out()\n",
        "print(\"Bag of Words Representation:\")\n",
        "for i, sentence in enumerate(bow_matrix):\n",
        "    print(f\"Sentence {i+1}:\")\n",
        "    for word, count in zip(feature_names, sentence.toarray()[0]):\n",
        "        if count > 0:  # Show only words with non-zero counts\n",
        "            print(f\"{word}: {count}\")"
      ],
      "metadata": {
        "colab": {
          "base_uri": "https://localhost:8080/"
        },
        "id": "7mPiPMZgzJMY",
        "outputId": "bb5c1e21-ba38-4695-850e-de70a25332e5"
      },
      "execution_count": 5,
      "outputs": [
        {
          "output_type": "stream",
          "name": "stdout",
          "text": [
            "Bag of Words Representation:\n",
            "Sentence 1:\n",
            "an: 1\n",
            "field: 1\n",
            "interesting: 1\n",
            "is: 1\n",
            "nlp: 1\n",
            "Sentence 2:\n",
            "involves: 1\n",
            "it: 1\n",
            "language: 1\n",
            "natural: 1\n",
            "processing: 1\n"
          ]
        }
      ]
    }
  ]
}